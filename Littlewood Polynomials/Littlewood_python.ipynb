{
 "cells": [
  {
   "cell_type": "code",
   "execution_count": null,
   "metadata": {},
   "outputs": [],
   "source": [
    "import os\n",
    "import shutil\n",
    "import glob\n",
    "import numpy as np\n",
    "from itertools import product\n",
    "import matplotlib.pyplot as plt\n",
    "import matplotlib\n",
    "import gc"
   ]
  },
  {
   "cell_type": "code",
   "execution_count": null,
   "metadata": {},
   "outputs": [],
   "source": [
    "# Construct the points t to perturb the polynomials.\n",
    "t0 = np.linspace(0, 0.1, 20)[:-1]\n",
    "t1 = np.linspace(0.1, 1, 120)[:-1]\n",
    "t2 = np.linspace(1, 10, 400)\n",
    "t3 = np.linspace(9, 100**(1/1.05), 350)**1.05\n",
    "t4 = np.linspace(66, 500**(1/1.1), 300)**1.1\n",
    "ts = np.concatenate([t0, t1, t2, t3, t4])\n",
    "font = {'fontname':'Impact'}"
   ]
  },
  {
   "cell_type": "code",
   "execution_count": null,
   "metadata": {},
   "outputs": [],
   "source": [
    "# Generate images for the video.\n",
    "shutil.rmtree('imagens', ignore_errors=True)\n",
    "os.mkdir('imagens')\n",
    "\n",
    "# Each iteration is a frame.\n",
    "for i, t in enumerate(ts):\n",
    "    z = []\n",
    "    ps = product(*15*[[-1, 1]])    # list of coefficients of all Littlewood polynomials of degree 14\n",
    "    for p in ps:\n",
    "        p = list(p)\n",
    "        p[-1] = t * p[-1]    # perturbation step (in this example we are multiplying the independent coefficient by t)\n",
    "        r = np.roots(p)\n",
    "        z.append(r)\n",
    "    z = np.array(z)\n",
    "    z = z.flatten()\n",
    "    \n",
    "    plt.figure(figsize=(16, 12), dpi=200)\n",
    "    im = plt.hist2d(np.real(z), np.imag(z), bins=1000, cmin=0, cmax=20, cmap='inferno')\n",
    "    leg = plt.legend(title=f't = {t :.2f}', loc=[0.85, 0.01], title_fontsize=30, facecolor='k', edgecolor='k')\n",
    "    plt.setp(leg.get_title(), color='w', **font)\n",
    "    plt.axis('off')\n",
    "    plt.tight_layout()\n",
    "    plt.savefig(os.path.join('imagens', f'img{i :02}.png'), bbox_inches='tight', pad_inches = 0, dpi=200)\n",
    "    plt.ioff()\n",
    "    # Clear the current axes.\n",
    "    plt.cla() \n",
    "    # Clear the current figure.\n",
    "    plt.clf() \n",
    "    # Closes all the figure windows.\n",
    "    plt.close('all')\n",
    "    gc.collect()\n",
    "    \n",
    "files = glob.glob(os.path.join('imagens', '*.png'))\n",
    "for file in files:\n",
    "    file_tmp = os.path.split(file)[-1][3:].split('.png')[0]\n",
    "    file_tmp = 'im' + 'x' * len(file_tmp) + file_tmp + '.png'\n",
    "    file_tmp = os.path.join(os.path.split(file)[0], file_tmp)\n",
    "    shutil.move(file, file_tmp)"
   ]
  }
 ],
 "metadata": {
  "kernelspec": {
   "display_name": "Python 3",
   "language": "python",
   "name": "python3"
  },
  "language_info": {
   "codemirror_mode": {
    "name": "ipython",
    "version": 3
   },
   "file_extension": ".py",
   "mimetype": "text/x-python",
   "name": "python",
   "nbconvert_exporter": "python",
   "pygments_lexer": "ipython3",
   "version": "3.8.3"
  }
 },
 "nbformat": 4,
 "nbformat_minor": 4
}
